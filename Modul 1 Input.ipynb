{
 "cells": [
  {
   "cell_type": "code",
   "execution_count": 5,
   "id": "bd32be3a-721c-4032-8806-640e31ffe38c",
   "metadata": {},
   "outputs": [
    {
     "name": "stdout",
     "output_type": "stream",
     "text": [
      "Hello What is your name\n"
     ]
    }
   ],
   "source": [
    "print('Hello What is your name')"
   ]
  },
  {
   "cell_type": "code",
   "execution_count": 6,
   "id": "bc6e517d-5ca6-4395-9597-05933559f3e3",
   "metadata": {},
   "outputs": [
    {
     "name": "stdin",
     "output_type": "stream",
     "text": [
      " harry\n"
     ]
    }
   ],
   "source": [
    "user_name = input()"
   ]
  },
  {
   "cell_type": "code",
   "execution_count": 8,
   "id": "e036fffc-ba6f-42b0-98a2-cae91a83d4dc",
   "metadata": {},
   "outputs": [
    {
     "name": "stdout",
     "output_type": "stream",
     "text": [
      "Hello harry\n"
     ]
    }
   ],
   "source": [
    "print('Hello', user_name)"
   ]
  },
  {
   "cell_type": "code",
   "execution_count": 10,
   "id": "b5870e88-947c-4cd0-b50e-8603837d0e3d",
   "metadata": {},
   "outputs": [
    {
     "name": "stdin",
     "output_type": "stream",
     "text": [
      "Hello joe\n"
     ]
    },
    {
     "name": "stdout",
     "output_type": "stream",
     "text": [
      "Hello joe\n"
     ]
    }
   ],
   "source": [
    "user_newname = input('Hello')\n",
    "print('Hello', user_newname)"
   ]
  },
  {
   "cell_type": "code",
   "execution_count": null,
   "id": "8e5e55f8-78a3-476b-8b53-b4c2b2982624",
   "metadata": {},
   "outputs": [],
   "source": []
  }
 ],
 "metadata": {
  "kernelspec": {
   "display_name": "Python 3 (ipykernel)",
   "language": "python",
   "name": "python3"
  },
  "language_info": {
   "codemirror_mode": {
    "name": "ipython",
    "version": 3
   },
   "file_extension": ".py",
   "mimetype": "text/x-python",
   "name": "python",
   "nbconvert_exporter": "python",
   "pygments_lexer": "ipython3",
   "version": "3.11.7"
  }
 },
 "nbformat": 4,
 "nbformat_minor": 5
}
