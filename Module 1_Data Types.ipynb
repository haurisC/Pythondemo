{
 "cells": [
  {
   "cell_type": "code",
   "execution_count": 1,
   "id": "0ac4905d-aaec-40ef-a715-5d12cd05b1c2",
   "metadata": {},
   "outputs": [],
   "source": [
    "age =35"
   ]
  },
  {
   "cell_type": "code",
   "execution_count": 2,
   "id": "8877de8d-12ce-46b2-a39e-8c5ab98eb835",
   "metadata": {},
   "outputs": [
    {
     "name": "stdout",
     "output_type": "stream",
     "text": [
      "35\n"
     ]
    }
   ],
   "source": [
    "print(age)\n"
   ]
  },
  {
   "cell_type": "code",
   "execution_count": null,
   "id": "b01e36de-5b4d-4f51-9806-c9cec668f7a8",
   "metadata": {},
   "outputs": [],
   "source": []
  },
  {
   "cell_type": "code",
   "execution_count": 3,
   "id": "f9597329-7795-408d-b5fc-14e2c33c126a",
   "metadata": {},
   "outputs": [],
   "source": [
    "speed =4.5"
   ]
  },
  {
   "cell_type": "code",
   "execution_count": null,
   "id": "b393ea87-7b98-4e06-bf5f-ad861cdb0d93",
   "metadata": {},
   "outputs": [],
   "source": []
  }
 ],
 "metadata": {
  "kernelspec": {
   "display_name": "Python 3 (ipykernel)",
   "language": "python",
   "name": "python3"
  },
  "language_info": {
   "codemirror_mode": {
    "name": "ipython",
    "version": 3
   },
   "file_extension": ".py",
   "mimetype": "text/x-python",
   "name": "python",
   "nbconvert_exporter": "python",
   "pygments_lexer": "ipython3",
   "version": "3.11.7"
  }
 },
 "nbformat": 4,
 "nbformat_minor": 5
}
