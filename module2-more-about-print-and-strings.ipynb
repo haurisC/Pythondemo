{
 "cells": [
  {
   "cell_type": "code",
   "execution_count": 1,
   "id": "c87af849-917a-4106-8a31-edf32e7b184f",
   "metadata": {},
   "outputs": [
    {
     "ename": "SyntaxError",
     "evalue": "invalid syntax (405204624.py, line 1)",
     "output_type": "error",
     "traceback": [
      "\u001b[1;36m  Cell \u001b[1;32mIn[1], line 1\u001b[1;36m\u001b[0m\n\u001b[1;33m    len(hello?)\u001b[0m\n\u001b[1;37m             ^\u001b[0m\n\u001b[1;31mSyntaxError\u001b[0m\u001b[1;31m:\u001b[0m invalid syntax\n"
     ]
    }
   ],
   "source": [
    "len(hello?)"
   ]
  },
  {
   "cell_type": "code",
   "execution_count": 3,
   "id": "3228d94b-dd41-4102-b2d9-c6811abf952d",
   "metadata": {},
   "outputs": [
    {
     "data": {
      "text/plain": [
       "6"
      ]
     },
     "execution_count": 3,
     "metadata": {},
     "output_type": "execute_result"
    }
   ],
   "source": [
    "len('Hello?')"
   ]
  },
  {
   "cell_type": "code",
   "execution_count": 4,
   "id": "0ae8dbf9-5318-4458-bacb-3f036a7412f6",
   "metadata": {},
   "outputs": [
    {
     "name": "stdout",
     "output_type": "stream",
     "text": [
      "Hello world."
     ]
    }
   ],
   "source": [
    "print('Hello world', end='.')"
   ]
  },
  {
   "cell_type": "code",
   "execution_count": 5,
   "id": "8a4ab80b-ba7a-4df5-b39f-26ffc64076df",
   "metadata": {},
   "outputs": [
    {
     "name": "stdout",
     "output_type": "stream",
     "text": [
      "Your first name-John-Welcome\n"
     ]
    }
   ],
   "source": [
    "name = 'John'\n",
    "print('Your first name', name, 'Welcome', sep = '-')"
   ]
  },
  {
   "cell_type": "code",
   "execution_count": null,
   "id": "026fe799-4348-41c1-bb91-51dbdcffc797",
   "metadata": {},
   "outputs": [],
   "source": []
  }
 ],
 "metadata": {
  "kernelspec": {
   "display_name": "Python 3 (ipykernel)",
   "language": "python",
   "name": "python3"
  },
  "language_info": {
   "codemirror_mode": {
    "name": "ipython",
    "version": 3
   },
   "file_extension": ".py",
   "mimetype": "text/x-python",
   "name": "python",
   "nbconvert_exporter": "python",
   "pygments_lexer": "ipython3",
   "version": "3.11.7"
  }
 },
 "nbformat": 4,
 "nbformat_minor": 5
}
