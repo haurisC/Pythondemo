{
 "cells": [
  {
   "cell_type": "code",
   "execution_count": 4,
   "id": "bf6ef1bf-75ea-4a3b-ad90-cb9fd258bf04",
   "metadata": {},
   "outputs": [
    {
     "name": "stdin",
     "output_type": "stream",
     "text": [
      "What is your age? 25\n"
     ]
    },
    {
     "name": "stdout",
     "output_type": "stream",
     "text": [
      "not bad\n"
     ]
    }
   ],
   "source": [
    "user_age = int(input('What is your age?'))\n",
    "if user_age > 30:\n",
    "    print('You are over 30 year old')\n",
    "    print('you to old')\n",
    "elif user_age ==30:\n",
    "    print('no good')\n",
    "\n",
    "else:\n",
    "    print('not bad')\n"
   ]
  },
  {
   "cell_type": "code",
   "execution_count": null,
   "id": "b842964a-ffef-4507-a3d3-0a6505c640b6",
   "metadata": {},
   "outputs": [],
   "source": []
  }
 ],
 "metadata": {
  "kernelspec": {
   "display_name": "Python 3 (ipykernel)",
   "language": "python",
   "name": "python3"
  },
  "language_info": {
   "codemirror_mode": {
    "name": "ipython",
    "version": 3
   },
   "file_extension": ".py",
   "mimetype": "text/x-python",
   "name": "python",
   "nbconvert_exporter": "python",
   "pygments_lexer": "ipython3",
   "version": "3.11.7"
  }
 },
 "nbformat": 4,
 "nbformat_minor": 5
}
