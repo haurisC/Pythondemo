{
 "cells": [
  {
   "cell_type": "code",
   "execution_count": 1,
   "id": "1fbaf569-ab4c-4641-9f3f-f0520e1cc824",
   "metadata": {},
   "outputs": [],
   "source": [
    "age = 5"
   ]
  },
  {
   "cell_type": "code",
   "execution_count": 3,
   "id": "0af59bda-57dc-43e2-975a-067f3e82ee3c",
   "metadata": {},
   "outputs": [],
   "source": [
    "newage = 5 + age"
   ]
  },
  {
   "cell_type": "code",
   "execution_count": 4,
   "id": "e50de939-213b-4326-ba4b-1b938bbd1b83",
   "metadata": {},
   "outputs": [
    {
     "name": "stdout",
     "output_type": "stream",
     "text": [
      "10\n"
     ]
    }
   ],
   "source": [
    "print(newage)"
   ]
  },
  {
   "cell_type": "code",
   "execution_count": null,
   "id": "e78d6942-a50f-4fc8-8662-0d209cfe1e44",
   "metadata": {},
   "outputs": [],
   "source": []
  }
 ],
 "metadata": {
  "kernelspec": {
   "display_name": "Python 3 (ipykernel)",
   "language": "python",
   "name": "python3"
  },
  "language_info": {
   "codemirror_mode": {
    "name": "ipython",
    "version": 3
   },
   "file_extension": ".py",
   "mimetype": "text/x-python",
   "name": "python",
   "nbconvert_exporter": "python",
   "pygments_lexer": "ipython3",
   "version": "3.11.7"
  }
 },
 "nbformat": 4,
 "nbformat_minor": 5
}
