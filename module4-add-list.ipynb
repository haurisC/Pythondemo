{
 "cells": [
  {
   "cell_type": "code",
   "execution_count": 1,
   "id": "e43760fd-7f95-47f4-96ec-833986e7f43f",
   "metadata": {},
   "outputs": [
    {
     "name": "stdout",
     "output_type": "stream",
     "text": [
      "hello\n"
     ]
    }
   ],
   "source": [
    "print('hello')"
   ]
  },
  {
   "cell_type": "code",
   "execution_count": 2,
   "id": "d5c9e747-d444-483c-8edd-3959279df190",
   "metadata": {},
   "outputs": [],
   "source": [
    "book_ratings =(7, 5, 9, 8)"
   ]
  },
  {
   "cell_type": "code",
   "execution_count": 5,
   "id": "7ff35485-2248-4172-8208-afb225533b12",
   "metadata": {},
   "outputs": [
    {
     "ename": "AttributeError",
     "evalue": "'tuple' object has no attribute 'append'",
     "output_type": "error",
     "traceback": [
      "\u001b[1;31m---------------------------------------------------------------------------\u001b[0m",
      "\u001b[1;31mAttributeError\u001b[0m                            Traceback (most recent call last)",
      "Cell \u001b[1;32mIn[5], line 1\u001b[0m\n\u001b[1;32m----> 1\u001b[0m book_ratings\u001b[38;5;241m.\u001b[39mappend(\u001b[38;5;241m5\u001b[39m)\n",
      "\u001b[1;31mAttributeError\u001b[0m: 'tuple' object has no attribute 'append'"
     ]
    }
   ],
   "source": [
    "book_ratings.append(5)"
   ]
  },
  {
   "cell_type": "code",
   "execution_count": 6,
   "id": "689bbbdb-5171-4c42-9878-44f51a829ee2",
   "metadata": {},
   "outputs": [
    {
     "ename": "AttributeError",
     "evalue": "'tuple' object has no attribute 'append'",
     "output_type": "error",
     "traceback": [
      "\u001b[1;31m---------------------------------------------------------------------------\u001b[0m",
      "\u001b[1;31mAttributeError\u001b[0m                            Traceback (most recent call last)",
      "Cell \u001b[1;32mIn[6], line 1\u001b[0m\n\u001b[1;32m----> 1\u001b[0m book_ratings\u001b[38;5;241m.\u001b[39mappend(\u001b[38;5;241m5\u001b[39m)\n",
      "\u001b[1;31mAttributeError\u001b[0m: 'tuple' object has no attribute 'append'"
     ]
    }
   ],
   "source": [
    "book_ratings.append(5)"
   ]
  },
  {
   "cell_type": "code",
   "execution_count": 8,
   "id": "cac7d8db-e5dd-49ed-a7f7-a4d690111b50",
   "metadata": {},
   "outputs": [],
   "source": [
    "book_ratingss = [5, 6, 8, 9]"
   ]
  },
  {
   "cell_type": "code",
   "execution_count": 10,
   "id": "b81bc619-651d-402b-992d-f702e15165ba",
   "metadata": {},
   "outputs": [],
   "source": [
    "book_ratingss.append(5)"
   ]
  },
  {
   "cell_type": "code",
   "execution_count": null,
   "id": "fb5432ec-1b3c-42ca-b031-bff5ee4ad737",
   "metadata": {},
   "outputs": [],
   "source": []
  }
 ],
 "metadata": {
  "kernelspec": {
   "display_name": "Python 3 (ipykernel)",
   "language": "python",
   "name": "python3"
  },
  "language_info": {
   "codemirror_mode": {
    "name": "ipython",
    "version": 3
   },
   "file_extension": ".py",
   "mimetype": "text/x-python",
   "name": "python",
   "nbconvert_exporter": "python",
   "pygments_lexer": "ipython3",
   "version": "3.11.7"
  }
 },
 "nbformat": 4,
 "nbformat_minor": 5
}
