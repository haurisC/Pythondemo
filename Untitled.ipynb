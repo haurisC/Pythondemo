{
 "cells": [
  {
   "cell_type": "code",
   "execution_count": 1,
   "id": "e83a6adc-a17e-4845-af99-7cd6d4af8967",
   "metadata": {},
   "outputs": [],
   "source": [
    "x = 1\n",
    "x = x == x"
   ]
  },
  {
   "cell_type": "code",
   "execution_count": 2,
   "id": "9cf41e07-1786-43c2-bdf2-392a4f1f9487",
   "metadata": {},
   "outputs": [
    {
     "ename": "SyntaxError",
     "evalue": "invalid syntax (349642382.py, line 6)",
     "output_type": "error",
     "traceback": [
      "\u001b[1;36m  Cell \u001b[1;32mIn[2], line 6\u001b[1;36m\u001b[0m\n\u001b[1;33m    else:\u001b[0m\n\u001b[1;37m    ^\u001b[0m\n\u001b[1;31mSyntaxError\u001b[0m\u001b[1;31m:\u001b[0m invalid syntax\n"
     ]
    }
   ],
   "source": [
    "choice = int(input('Pick a number: '))\n",
    "if choice == 3:\n",
    "    print('Good choice')\n",
    "else:\n",
    "    print('You could have chosen better')\n",
    "else:\n",
    "    print('No luck this time')"
   ]
  },
  {
   "cell_type": "code",
   "execution_count": 3,
   "id": "79643fe4-5573-4c21-bc52-c9f72f77b3c0",
   "metadata": {},
   "outputs": [
    {
     "name": "stdout",
     "output_type": "stream",
     "text": [
      "i\n",
      " \n",
      "a\n",
      "m\n",
      " \n",
      "h\n",
      "a\n",
      "v\n",
      "i\n",
      "n\n",
      "g\n",
      " \n",
      "f\n",
      "u\n",
      "n\n",
      " \n",
      "t\n",
      "o\n",
      "d\n",
      "a\n",
      "y\n"
     ]
    }
   ],
   "source": [
    "for x in 'i am having fun today':\n",
    "  print(x)"
   ]
  },
  {
   "cell_type": "code",
   "execution_count": 5,
   "id": "bf52d534-da39-40f0-8a33-5f7f865d767a",
   "metadata": {},
   "outputs": [
    {
     "name": "stdout",
     "output_type": "stream",
     "text": [
      "1\n",
      "2\n",
      "3\n",
      "4\n",
      "5\n"
     ]
    }
   ],
   "source": [
    "for a in range(1, 6):\n",
    "    for b in range(1, 10):\n",
    "         if (a == b):\n",
    "           print(a)"
   ]
  },
  {
   "cell_type": "code",
   "execution_count": null,
   "id": "74697e13-5298-4e3a-9526-3b060e8116e8",
   "metadata": {},
   "outputs": [],
   "source": []
  }
 ],
 "metadata": {
  "kernelspec": {
   "display_name": "Python 3 (ipykernel)",
   "language": "python",
   "name": "python3"
  },
  "language_info": {
   "codemirror_mode": {
    "name": "ipython",
    "version": 3
   },
   "file_extension": ".py",
   "mimetype": "text/x-python",
   "name": "python",
   "nbconvert_exporter": "python",
   "pygments_lexer": "ipython3",
   "version": "3.11.7"
  }
 },
 "nbformat": 4,
 "nbformat_minor": 5
}
