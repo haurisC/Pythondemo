{
 "cells": [
  {
   "cell_type": "code",
   "execution_count": 3,
   "id": "dc5b416e-4c10-457f-9c04-43c0514a491f",
   "metadata": {},
   "outputs": [
    {
     "name": "stdin",
     "output_type": "stream",
     "text": [
      "Height convertor: enter your height in cm 78\n"
     ]
    },
    {
     "name": "stdout",
     "output_type": "stream",
     "text": [
      "Your height in feet is: 2.559055118110236\n"
     ]
    }
   ],
   "source": [
    "height_cm = input('Height convertor: enter your height in cm')\n",
    "float_height_cm = float(height_cm)\n",
    "print('Your height in feet is:', float_height_cm / 30.48 )\n"
   ]
  },
  {
   "cell_type": "code",
   "execution_count": 4,
   "id": "b4f580bc-3e5d-4395-9617-67dbfaf42e0e",
   "metadata": {},
   "outputs": [
    {
     "name": "stdin",
     "output_type": "stream",
     "text": [
      "Height convertor: enter your height in cm 89\n"
     ]
    },
    {
     "name": "stdout",
     "output_type": "stream",
     "text": [
      "Your height in feet is: 2.559055118110236\n"
     ]
    }
   ],
   "source": [
    "height_cm = float(input('Height convertor: enter your height in cm'))\n",
    "print('Your height in feet is:', float_height_cm / 30.48 )"
   ]
  },
  {
   "cell_type": "code",
   "execution_count": null,
   "id": "96fb3ddf-b910-4891-a845-0816c56697b2",
   "metadata": {},
   "outputs": [],
   "source": []
  }
 ],
 "metadata": {
  "kernelspec": {
   "display_name": "Python 3 (ipykernel)",
   "language": "python",
   "name": "python3"
  },
  "language_info": {
   "codemirror_mode": {
    "name": "ipython",
    "version": 3
   },
   "file_extension": ".py",
   "mimetype": "text/x-python",
   "name": "python",
   "nbconvert_exporter": "python",
   "pygments_lexer": "ipython3",
   "version": "3.11.7"
  }
 },
 "nbformat": 4,
 "nbformat_minor": 5
}
