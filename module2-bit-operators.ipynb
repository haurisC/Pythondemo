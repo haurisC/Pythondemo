{
 "cells": [
  {
   "cell_type": "code",
   "execution_count": 1,
   "id": "0c81fafe-3408-4418-b85d-c71bdd35c2bb",
   "metadata": {},
   "outputs": [],
   "source": [
    "first_bit = 1"
   ]
  },
  {
   "cell_type": "code",
   "execution_count": 2,
   "id": "ddb6e947-4eb7-45e5-b6ac-2aefc746a11a",
   "metadata": {},
   "outputs": [],
   "source": [
    "second_bit=0"
   ]
  },
  {
   "cell_type": "code",
   "execution_count": 3,
   "id": "748b216e-3418-445b-9ba8-a5dc1c748fcc",
   "metadata": {},
   "outputs": [
    {
     "data": {
      "text/plain": [
       "6"
      ]
     },
     "execution_count": 3,
     "metadata": {},
     "output_type": "execute_result"
    }
   ],
   "source": [
    "12>>1"
   ]
  },
  {
   "cell_type": "code",
   "execution_count": 4,
   "id": "59a80130-a6ee-48e8-ad67-eff2b62dc441",
   "metadata": {},
   "outputs": [
    {
     "data": {
      "text/plain": [
       "3072"
      ]
     },
     "execution_count": 4,
     "metadata": {},
     "output_type": "execute_result"
    }
   ],
   "source": [
    "12<<8"
   ]
  },
  {
   "cell_type": "code",
   "execution_count": 5,
   "id": "aea15710-a653-4a21-9134-cf1e3b7ebc32",
   "metadata": {},
   "outputs": [
    {
     "data": {
      "text/plain": [
       "0"
      ]
     },
     "execution_count": 5,
     "metadata": {},
     "output_type": "execute_result"
    }
   ],
   "source": [
    "1//2*3"
   ]
  },
  {
   "cell_type": "code",
   "execution_count": 6,
   "id": "c2f04e73-b4d0-4293-b2bf-bdd14e0b1692",
   "metadata": {},
   "outputs": [
    {
     "ename": "SyntaxError",
     "evalue": "positional argument follows keyword argument (2422758299.py, line 2)",
     "output_type": "error",
     "traceback": [
      "\u001b[1;36m  Cell \u001b[1;32mIn[6], line 2\u001b[1;36m\u001b[0m\n\u001b[1;33m    print(sep=' - ', 'Your first name is', first_name, 'Welcome!')\u001b[0m\n\u001b[1;37m                                                                 ^\u001b[0m\n\u001b[1;31mSyntaxError\u001b[0m\u001b[1;31m:\u001b[0m positional argument follows keyword argument\n"
     ]
    }
   ],
   "source": [
    "first_name = 'John'\n",
    "print(sep=' - ', 'Your first name is', first_name, 'Welcome!')"
   ]
  },
  {
   "cell_type": "code",
   "execution_count": 7,
   "id": "cc05e6c3-ef69-49c7-a307-3647140e5e9f",
   "metadata": {},
   "outputs": [
    {
     "data": {
      "text/plain": [
       "0"
      ]
     },
     "execution_count": 7,
     "metadata": {},
     "output_type": "execute_result"
    }
   ],
   "source": [
    "2//4"
   ]
  },
  {
   "cell_type": "code",
   "execution_count": null,
   "id": "a8b7bf98-2d91-4844-b977-eddb06028d47",
   "metadata": {},
   "outputs": [],
   "source": []
  }
 ],
 "metadata": {
  "kernelspec": {
   "display_name": "Python 3 (ipykernel)",
   "language": "python",
   "name": "python3"
  },
  "language_info": {
   "codemirror_mode": {
    "name": "ipython",
    "version": 3
   },
   "file_extension": ".py",
   "mimetype": "text/x-python",
   "name": "python",
   "nbconvert_exporter": "python",
   "pygments_lexer": "ipython3",
   "version": "3.11.7"
  }
 },
 "nbformat": 4,
 "nbformat_minor": 5
}
